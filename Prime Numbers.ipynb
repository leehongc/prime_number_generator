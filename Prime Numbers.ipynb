{
 "cells": [
  {
   "cell_type": "code",
   "execution_count": 2,
   "metadata": {},
   "outputs": [],
   "source": [
    "def primesList(n):\n",
    "    primesList = [3]\n",
    "    for num in range(3, n, 2):\n",
    "        # assuming a number as prime until it's determined as not\n",
    "        isPrime = True\n",
    "        for prime in primesList:\n",
    "            #print('prime: '+ str(prime))\n",
    "            if num%prime == 0:\n",
    "                isPrime = False\n",
    "                break\n",
    "        if isPrime == True:\n",
    "            #print('appending: '+ str(num))\n",
    "            primesList.append(num)\n",
    "            \n",
    "    primesList.insert(0, 2)\n",
    "    return primesList"
   ]
  },
  {
   "cell_type": "code",
   "execution_count": 5,
   "metadata": {},
   "outputs": [
    {
     "name": "stdout",
     "output_type": "stream",
     "text": [
      "[9887, 9901, 9907, 9923, 9929, 9931, 9941, 9949, 9967, 9973]\n"
     ]
    }
   ],
   "source": [
    "print(primesList(10000)[-10:])"
   ]
  }
 ],
 "metadata": {
  "kernelspec": {
   "display_name": "Python 3",
   "language": "python",
   "name": "python3"
  },
  "language_info": {
   "codemirror_mode": {
    "name": "ipython",
    "version": 3
   },
   "file_extension": ".py",
   "mimetype": "text/x-python",
   "name": "python",
   "nbconvert_exporter": "python",
   "pygments_lexer": "ipython3",
   "version": "3.7.3"
  }
 },
 "nbformat": 4,
 "nbformat_minor": 2
}
